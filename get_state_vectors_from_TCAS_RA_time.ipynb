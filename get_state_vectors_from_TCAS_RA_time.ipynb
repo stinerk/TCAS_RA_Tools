{
 "cells": [
  {
   "cell_type": "markdown",
   "id": "91351f65-a148-4692-a58e-c5d2bf6f23db",
   "metadata": {
    "id": "TPsdU22yw_YV",
    "tags": []
   },
   "source": [
    "# **코드 실행전 할일**\n",
    " **1. https://www.python.org/downloads/windows/ 접속하여 파이썬 3.8버전이나 3.10버전 설치**\\\n",
    " **2. https://code.visualstudio.com/ Visual Studio Code설치(옵션)**\\\n",
    " **3. 윈도우 실행 눌러서 cmd.exe 입력하여 명령프롬포트 실행**\\\n",
    " **4. python --version 입력하여 파이썬 버전 확인**\\\n",
    " **5. pip3 install jupyter 명령실행하여 주피터 노트북 설치**\\\n",
    " **6. 라이브러리 설치**   \n",
    "> pip install git+https://github.com/junzis/pyopensky --upgrade  \n",
    "> pip install pandas  \n",
    "> pip install tqdm  \n",
    "> pip install scipy  \n",
    "\n",
    " **7. python -m notebook 입력하여 주피터 노트북 설치 또는 Visual Studio Code 실행하여 ipynb 파일열기**   \n",
    "\n",
    " \n",
    " -----------------------------------------------------------------------------------------------------------\n",
    "\n",
    "\n"
   ]
  },
  {
   "cell_type": "markdown",
   "id": "f1d917aa-54b4-441f-9c7c-ad5e3859944c",
   "metadata": {
    "id": "psbM6g2E4H7T"
   },
   "source": [
    "### **● 아래 코드 실행시 오류 발생할 것임(최초실행시에만)**\n",
    "- 아래코드실행하여 오류 발생하게 하고 윈도우 기준 첨부된 secrete.conf 파일을 C:\\Users\\사용자명\\.config\\pyopensky\\secrete.conf 로 덮어쓰기"
   ]
  },
  {
   "cell_type": "code",
   "execution_count": null,
   "id": "2d51e71b-018e-4aed-bcc2-98068d71e51f",
   "metadata": {
    "colab": {
     "base_uri": "https://localhost:8080/"
    },
    "executionInfo": {
     "elapsed": 1384,
     "status": "ok",
     "timestamp": 1684325099987,
     "user": {
      "displayName": "김우영",
      "userId": "18312306703065428389"
     },
     "user_tz": -540
    },
    "id": "o_CFRxS_Ig0u",
    "outputId": "413de52c-bf37-4c05-fe32-fca6b5efe8f8"
   },
   "outputs": [],
   "source": [
    "from pyopensky import OpenskyImpalaWrapper\n",
    "\n",
    "OpenskyImpalaWrapper()\n"
   ]
  },
  {
   "cell_type": "markdown",
   "id": "0bbab678-6734-43a3-9d1c-2634812c2e38",
   "metadata": {
    "id": "STkTBueJ5MlO"
   },
   "source": [
    "# **● pyopensky 활용 rollcall_replies자료 12시간 단위로 자료 불러오기**\n",
    "- start_date, end_date 수정 및 delta 값의 hours 값 아래기준으로 변경 가능 하나 장시간으로 설정시 개별시간이 오래걸리고 컴퓨터가 다운될 수 있음\n",
    "> days\t일  \n",
    "seconds\t초  \n",
    "microseconds\t마이크로 초  \n",
    "milliseconds\t밀리 초 (1밀리 초는 1000마이크로 초)  \n",
    "minutes\t분  \n",
    "hours\t시간  \n",
    "weeks\t주 (7일을 의미함)  \n",
    "\n",
    "- opensky(OpenskyImpalaWrapper) 실행 옵션은 아래와 같다.\n",
    ">source (str): Source of messages \"adsb\" or \"rollcall\"  \n",
    "start (str): Start of time period with format YYYY-MM-DD HH:MM:SS  \n",
    "end (str): End of time period with format YYYY-MM-DD HH:MM:SS  \n",
    "icao24 (str or list): Filter of one or a list of IACO addresses, default to None  \n",
    "bound (list): Filter latitude and longitude bound with format of [lat1, lon1, lat2, lon2], default to None  \n",
    "countfirst (bool): Count and print number of records before actual query, default to True  \n",
    "limit (int): Return only a number of return records, defualt to None  \n",
    "\n",
    "- path_to_file 의 경로를 미리 만들어둔 PC내 폴더로 지정\n"
   ]
  },
  {
   "cell_type": "markdown",
   "id": "66154b4e-25a5-4944-9ab7-26eec8f2130b",
   "metadata": {
    "id": "lh_Kxs8NDEVm"
   },
   "source": [
    "# ● TCAS 발생 시간 위치 필터값으로 State 값 가져오기\n",
    "- 지정경로로 결과값 저장"
   ]
  },
  {
   "cell_type": "code",
   "execution_count": 16,
   "id": "2d066674-2a1c-46b7-9d1e-a058fb4ec12a",
   "metadata": {
    "colab": {
     "base_uri": "https://localhost:8080/"
    },
    "executionInfo": {
     "elapsed": 4934902,
     "status": "ok",
     "timestamp": 1684330604632,
     "user": {
      "displayName": "김우영",
      "userId": "18312306703065428389"
     },
     "user_tz": -540
    },
    "id": "VraFLZBlTexC",
    "outputId": "863f82dd-cd1b-426e-e167-ac1adba0d252"
   },
   "outputs": [
    {
     "name": "stdout",
     "output_type": "stream",
     "text": [
      "* Server connection successful!\n"
     ]
    },
    {
     "name": "stderr",
     "output_type": "stream",
     "text": [
      "  0%|          | 0/1 [00:00<?, ?it/s]"
     ]
    },
    {
     "name": "stdout",
     "output_type": "stream",
     "text": [
      "* Obtaining details of the query...\n",
      "* OpenSky Impala: 153665 of records found.\n",
      "* Fetching records...\n",
      "* Records downloaded.\n"
     ]
    },
    {
     "name": "stderr",
     "output_type": "stream",
     "text": [
      "100%|██████████| 1/1 [01:14<00:00, 74.45s/it]\n",
      "ERROR:paramiko.transport:Socket exception: 현재 연결은 원격 호스트에 의해 강제로 끊겼습니다 (10054)\n",
      "ERROR:paramiko.transport:Socket exception: 현재 연결은 원격 호스트에 의해 강제로 끊겼습니다 (10054)\n",
      "ERROR:paramiko.transport:Socket exception: 현재 연결은 원격 호스트에 의해 강제로 끊겼습니다 (10054)\n",
      "ERROR:paramiko.transport:Socket exception: 현재 연결은 원격 호스트에 의해 강제로 끊겼습니다 (10054)\n",
      "ERROR:paramiko.transport:Socket exception: 현재 연결은 원격 호스트에 의해 강제로 끊겼습니다 (10054)\n",
      "ERROR:paramiko.transport:Socket exception: 현재 연결은 원격 호스트에 의해 강제로 끊겼습니다 (10054)\n",
      "ERROR:paramiko.transport:Socket exception: 현재 연결은 원격 호스트에 의해 강제로 끊겼습니다 (10054)\n",
      "ERROR:paramiko.transport:Socket exception: 현재 연결은 원격 호스트에 의해 강제로 끊겼습니다 (10054)\n",
      "ERROR:paramiko.transport:Socket exception: 현재 연결은 원격 호스트에 의해 강제로 끊겼습니다 (10054)\n",
      "ERROR:paramiko.transport:Socket exception: 현재 연결은 원격 호스트에 의해 강제로 끊겼습니다 (10054)\n",
      "ERROR:paramiko.transport:Socket exception: 현재 연결은 원격 호스트에 의해 강제로 끊겼습니다 (10054)\n",
      "ERROR:paramiko.transport:Socket exception: 현재 연결은 원격 호스트에 의해 강제로 끊겼습니다 (10054)\n",
      "ERROR:paramiko.transport:Socket exception: 현재 연결은 원격 호스트에 의해 강제로 끊겼습니다 (10054)\n",
      "ERROR:paramiko.transport:Socket exception: 현재 연결은 원격 호스트에 의해 강제로 끊겼습니다 (10054)\n",
      "ERROR:paramiko.transport:Socket exception: 현재 연결은 원격 호스트에 의해 강제로 끊겼습니다 (10054)\n",
      "ERROR:paramiko.transport:Socket exception: 현재 연결은 원격 호스트에 의해 강제로 끊겼습니다 (10054)\n"
     ]
    }
   ],
   "source": [
    "from datetime import datetime, timedelta\n",
    "from pyopensky import OpenskyImpalaWrapper\n",
    "from tqdm import tqdm\n",
    "\n",
    "opensky = OpenskyImpalaWrapper()\n",
    "\n",
    "# 시작 시간과 끝 시간 지정\n",
    "start_date = datetime(2023, 1, 3)\n",
    "end_date = datetime(2023, 1, 3, 12)\n",
    "\n",
    "# 저장 간격 지정(days, hours, weeks, minutes 등 지정 가능)\n",
    "delta = timedelta(hours=12)\n",
    "\n",
    "\n",
    "# 시간 간격에 따른 쿼리 데이터 획득 및 진행 상황 바 시현\n",
    "with tqdm(total=int((end_date - start_date) / delta)) as pbar:\n",
    "    while start_date < end_date:\n",
    "        # 설정된 시간 간격에 따른 끝 지점 계산\n",
    "        interval_end_date = min(start_date + delta, end_date)\n",
    "    \n",
    "        # 필터에 따른 쿼리 수행(ICAO24, bound 지정 가능)\n",
    "        df2 = opensky.query(\n",
    "            source=\"adsb\",\n",
    "            start=start_date.strftime(\"%Y-%m-%d %H:%M:%S\"),\n",
    "            end=interval_end_date.strftime(\"%Y-%m-%d %H:%M:%S\"),\n",
    "            #icao24=\"ac32f2\",    \n",
    "            bound=[35.5, 126.1, 37.8, 127.8],\n",
    "        )\n",
    "    \n",
    "        # 날짜 범위에 따른 파일명 생성(path_to_file 에 실제 저장하고자 하는 경로 지정)\n",
    "        file_name = f\"adsb_result_{start_date.strftime('%Y%m%d-%H%M')}_{interval_end_date.strftime('%Y%m%d-%H%M')}.csv\"\n",
    "        path_to_file = \"E:/opensky/state_raw/\" + file_name\n",
    "    \n",
    "        # CSV 포맷으로 데이터 저장\n",
    "        if df2 is None:\n",
    "            start_date += delta\n",
    "        else:\n",
    "            df2.to_csv(path_to_file, index=False)\n",
    "            start_date += delta\n",
    "        import pandas as pd\n",
    "\n",
    "        # CSV 파일 경로(저장 경로 지정)\n",
    "        csv_file_path = \"E:/opensky/state_raw/\" + file_name\n",
    "\n",
    "        # 저장된 CSV 파일 읽기\n",
    "        df = pd.read_csv(csv_file_path)\n",
    "\n",
    "        # Unix 시간 값을 년월일 시간 형식으로 변환하여 새로운 열 추가\n",
    "        df['converted_time'] = pd.to_datetime(df['time'], unit='s').dt.strftime('%m-%d %H:%M:%S')\n",
    "        df['baroalt_ft'] = df['baroaltitude']*3.2084\n",
    "        \n",
    "        # 'converted_time' 열을 'time' 열 바로 옆에 추가\n",
    "        df = df[['time', 'converted_time'] + [col for col in df.columns if col != 'time']]\n",
    "\n",
    "        # 변환된 데이터프레임을 새로운 CSV 파일로 저장\n",
    "        output_csv_file_path = \"E:/opensky/state_raw/\" + file_name\n",
    "        df.to_csv(output_csv_file_path, index=False)\n",
    "        \n",
    "        # 진행 상황 바 업데이트\n",
    "        pbar.update(1)\n",
    "        "
   ]
  }
 ],
 "metadata": {
  "kernelspec": {
   "display_name": "traffic",
   "language": "python",
   "name": "traffic"
  },
  "language_info": {
   "codemirror_mode": {
    "name": "ipython",
    "version": 3
   },
   "file_extension": ".py",
   "mimetype": "text/x-python",
   "name": "python",
   "nbconvert_exporter": "python",
   "pygments_lexer": "ipython3",
   "version": "3.10.11"
  }
 },
 "nbformat": 4,
 "nbformat_minor": 5
}
